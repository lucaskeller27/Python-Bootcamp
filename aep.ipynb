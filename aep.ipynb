{
 "cells": [
  {
   "cell_type": "markdown",
   "metadata": {},
   "source": [
    "#### 24/03"
   ]
  },
  {
   "cell_type": "code",
   "execution_count": null,
   "metadata": {},
   "outputs": [],
   "source": [
    "# Input\n",
    "\n",
    "num1 = int(input(\"Digite um valor:\\n->\"))\n",
    "num2 = int(input(\"Digite um outro valor:\\n->\"))\n",
    "\n",
    "# Processing\n",
    "\n",
    "result = num1 + num2\n",
    "\n",
    "# Output\n",
    "\n",
    "print(\"O resultado é:\", result)"
   ]
  },
  {
   "cell_type": "code",
   "execution_count": null,
   "metadata": {},
   "outputs": [],
   "source": [
    "nome = input(\"Digite o seu nome: \")\n",
    "print(\"%s é o seu nome.\" %(nome))"
   ]
  },
  {
   "cell_type": "code",
   "execution_count": null,
   "metadata": {},
   "outputs": [],
   "source": [
    "name = str(input(\"Digite o seu nome: \"))\n",
    "age = int(input(\"Digite a sua idade: \"))\n",
    "weight = int(input(\"Digite o seu peso: \"))\n",
    "height = float(input(\"Digite a sua altura: \"))\n",
    "print(\"Nome do aluno: %s\\nIdade: %d\\nPeso: %d kg\\nAltura: %.2f m\" %(name, age, weight, height))"
   ]
  },
  {
   "cell_type": "code",
   "execution_count": null,
   "metadata": {},
   "outputs": [],
   "source": [
    "# F-string\n",
    "\n",
    "name = \"Lucas\"\n",
    "course = \"Computer Science\"\n",
    "print(f\"My name is {name} and I'm currently studying {course}.\")"
   ]
  },
  {
   "cell_type": "markdown",
   "metadata": {},
   "source": [
    "#### 31/03"
   ]
  },
  {
   "cell_type": "code",
   "execution_count": null,
   "metadata": {},
   "outputs": [],
   "source": []
  }
 ],
 "metadata": {
  "kernelspec": {
   "display_name": "base",
   "language": "python",
   "name": "python3"
  },
  "language_info": {
   "codemirror_mode": {
    "name": "ipython",
    "version": 3
   },
   "file_extension": ".py",
   "mimetype": "text/x-python",
   "name": "python",
   "nbconvert_exporter": "python",
   "pygments_lexer": "ipython3",
   "version": "3.12.7"
  }
 },
 "nbformat": 4,
 "nbformat_minor": 2
}
