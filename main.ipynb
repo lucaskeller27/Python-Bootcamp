{
 "cells": [
  {
   "cell_type": "markdown",
   "metadata": {},
   "source": [
    "#### Day 1"
   ]
  },
  {
   "cell_type": "code",
   "execution_count": null,
   "metadata": {},
   "outputs": [],
   "source": [
    "# 3) Take the user's name as input and add it onto the string\n",
    "\n",
    "name = input(\"What is your name?\\n-> \")\n",
    "print(\"Hello,\", name + \"!\")"
   ]
  },
  {
   "cell_type": "code",
   "execution_count": null,
   "metadata": {},
   "outputs": [],
   "source": [
    "# 4) Check the length of the user's name and print it out\n",
    "\n",
    "name = input(\"What is your name?\\n-> \")\n",
    "nameLength = len(name)\n",
    "print(name + \", your name is\", str(nameLength), \"characters long.\")"
   ]
  },
  {
   "cell_type": "code",
   "execution_count": null,
   "metadata": {},
   "outputs": [],
   "source": [
    "# 6) Band name generator\n",
    "\n",
    "print(\"# Band Name Generator #\")\n",
    "cityName = input(\"What is the name of the city you're from?\\n-> \")\n",
    "petName = input(\"If you had just adopted a pet animal, what would you name it?\\n-> \")\n",
    "print(\"Your band name is: #\", cityName, petName, \"#\")"
   ]
  },
  {
   "cell_type": "markdown",
   "metadata": {},
   "source": [
    "### Day 2"
   ]
  },
  {
   "cell_type": "code",
   "execution_count": null,
   "metadata": {},
   "outputs": [],
   "source": []
  }
 ],
 "metadata": {
  "kernelspec": {
   "display_name": "base",
   "language": "python",
   "name": "python3"
  },
  "language_info": {
   "codemirror_mode": {
    "name": "ipython",
    "version": 3
   },
   "file_extension": ".py",
   "mimetype": "text/x-python",
   "name": "python",
   "nbconvert_exporter": "python",
   "pygments_lexer": "ipython3",
   "version": "3.12.7"
  }
 },
 "nbformat": 4,
 "nbformat_minor": 2
}
