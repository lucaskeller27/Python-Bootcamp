{
 "cells": [
  {
   "cell_type": "markdown",
   "metadata": {},
   "source": [
    "#### Day 1 - Variables"
   ]
  },
  {
   "cell_type": "code",
   "execution_count": null,
   "metadata": {},
   "outputs": [],
   "source": [
    "# Input and Print functions\n",
    "\n",
    "name = input(\"What is your name?\\n-> \")\n",
    "print(\"Hello,\", name + \"!\")"
   ]
  },
  {
   "cell_type": "code",
   "execution_count": null,
   "metadata": {},
   "outputs": [],
   "source": [
    "# Type conversion\n",
    "\n",
    "name = input(\"What is your name?\\n-> \")\n",
    "name_length = len(name)\n",
    "print(name + \", your name is\", str(name_length), \"characters long.\")"
   ]
  },
  {
   "cell_type": "markdown",
   "metadata": {},
   "source": [
    "#### Day 2 - Data types & string manipulation"
   ]
  },
  {
   "cell_type": "code",
   "execution_count": null,
   "metadata": {},
   "outputs": [],
   "source": [
    "# Indexing strings\n",
    "\n",
    "print(\"Good morning\"[1:3])"
   ]
  },
  {
   "cell_type": "code",
   "execution_count": null,
   "metadata": {},
   "outputs": [],
   "source": [
    "# Large integers (using underscores to make big numbers more readable)\n",
    "\n",
    "print(123_456_789)"
   ]
  },
  {
   "cell_type": "code",
   "execution_count": null,
   "metadata": {},
   "outputs": [],
   "source": [
    "# Type checking\n",
    "\n",
    "print(type(369))"
   ]
  },
  {
   "cell_type": "code",
   "execution_count": null,
   "metadata": {},
   "outputs": [],
   "source": [
    "# Type conversion (integers and floats)\n",
    "\n",
    "num = 3.14\n",
    "print(int(num))"
   ]
  },
  {
   "cell_type": "code",
   "execution_count": null,
   "metadata": {},
   "outputs": [],
   "source": [
    "# Type conversion (strings)\n",
    "\n",
    "name_length = len(input(\"What is your name?\\n-> \"))\n",
    "print(\"Your name is\", str(name_length), \"characters long.\")"
   ]
  },
  {
   "cell_type": "code",
   "execution_count": null,
   "metadata": {},
   "outputs": [],
   "source": [
    "# Mathematical operations (division)\n",
    "\n",
    "# Divisions w/ one slash = floats; Divisions w/ two slashes = integers\n",
    "\n",
    "division_float = (6 / 3)\n",
    "division_int = (6 // 3)\n",
    "print(type(division_float), type(division_int))"
   ]
  },
  {
   "cell_type": "code",
   "execution_count": null,
   "metadata": {},
   "outputs": [],
   "source": [
    "# Mathematical operations (exponentiation)\n",
    "\n",
    "num = (2 ** 4)\n",
    "# print(num)\n",
    "print(num == (2 * 2 * 2 * 2))"
   ]
  },
  {
   "cell_type": "code",
   "execution_count": null,
   "metadata": {},
   "outputs": [],
   "source": [
    "# BMI Calculator\n",
    "\n",
    "weight = float(input(\"What is your weight? (kg)\\n-> \"))\n",
    "height = float(input(\"What is your height? (m)\\n-> \"))\n",
    "\n",
    "bmi = (weight / (height ** 2))\n",
    "print(\"Your BMI is:\", round(bmi, 1))"
   ]
  },
  {
   "cell_type": "code",
   "execution_count": null,
   "metadata": {},
   "outputs": [],
   "source": [
    "# Flooring numbers\n",
    "\n",
    "num = 25.412905\n",
    "print(int(num))"
   ]
  },
  {
   "cell_type": "code",
   "execution_count": null,
   "metadata": {},
   "outputs": [],
   "source": [
    "# Round function – ([number], [nº of decimal digits])\n",
    "\n",
    "num = 27.712905\n",
    "round(num, 1)"
   ]
  },
  {
   "cell_type": "code",
   "execution_count": null,
   "metadata": {},
   "outputs": [],
   "source": [
    "# Assignment operators (+, -, * & /)\n",
    "\n",
    "num = 0\n",
    "num += 1 # Same thing as \"num = num + 1\"\n",
    "print(num)"
   ]
  },
  {
   "cell_type": "code",
   "execution_count": null,
   "metadata": {},
   "outputs": [],
   "source": [
    "# F-strings\n",
    "\n",
    "player_name = \"Lucas\"\n",
    "goals_scored = 3\n",
    "print(f\"{player_name} scored {goals_scored} goals in his last match.\")"
   ]
  },
  {
   "cell_type": "markdown",
   "metadata": {},
   "source": [
    "#### Day 3 - Logical operators"
   ]
  },
  {
   "cell_type": "code",
   "execution_count": null,
   "metadata": {},
   "outputs": [],
   "source": [
    "# If-Else statements\n",
    "\n",
    "print(\"Welcome to the rollercoaster!\")\n",
    "height = int(input(\"What is your height (cm)?\"))\n",
    "\n",
    "if height >= 120:\n",
    "    print(\"You can ride the rollercoaster!\")\n",
    "else:\n",
    "    print(\"Sorry, but you are under the minimum height.\")"
   ]
  },
  {
   "cell_type": "code",
   "execution_count": null,
   "metadata": {},
   "outputs": [],
   "source": [
    "# Number parity checker\n",
    "\n",
    "number_to_check = int(input(\"Type in a number:\\n-> \"))\n",
    "\n",
    "if number_to_check % 2 == 0:\n",
    "    print(\"The number you typed in is even!\")\n",
    "else:\n",
    "    print(\"The number you typed in is odd!\")"
   ]
  },
  {
   "cell_type": "code",
   "execution_count": null,
   "metadata": {},
   "outputs": [],
   "source": [
    "# Nested If-Else and Elif (Else-If) statements\n",
    "\n",
    "print(\"Welcome to the rollercoaster!\")\n",
    "height = int(input(\"What is your height (cm)?\\n-> \"))\n",
    "\n",
    "if height >= 120:\n",
    "    print(\"You can ride the rollercoaster!\")\n",
    "    ticket = 0\n",
    "    age = int(input(\"What is your age?\\n-> \"))\n",
    "    if age >= 18:\n",
    "        print(\"Your ticket will cost $15.\")\n",
    "        ticket += 15\n",
    "    elif 18 > age >= 10:\n",
    "        print(\"Your ticket will cost $10.\")\n",
    "        ticket += 10\n",
    "    elif 55 >= age >= 45:\n",
    "        print(\"You can ride for free!\")\n",
    "        ticket = 0\n",
    "    else:\n",
    "        print(\"Your ticket will cost $5.\")\n",
    "        ticket += 5\n",
    "    buy_photo = input(\"Would you like to pay an additional $1 for a photo? (Y or N)\")\n",
    "    if buy_photo == \"Y\":\n",
    "        ticket += 1\n",
    "        print(f\"Your total bill is: ${ticket}\")\n",
    "    else:\n",
    "        print(f\"Your total bill is: ${ticket}\")\n",
    "else:\n",
    "    print(\"Sorry, but you are under the minimum height.\")"
   ]
  },
  {
   "cell_type": "code",
   "execution_count": null,
   "metadata": {},
   "outputs": [],
   "source": [
    "# BMI Calculator w/ weight categories\n",
    "\n",
    "weight = float(input(\"What is your weight? (kg)\\n-> \"))\n",
    "height = float(input(\"What is your height? (m)\\n-> \"))\n",
    "\n",
    "bmi = (weight / (height ** 2))\n",
    "if bmi < 18.5:\n",
    "    print(\"Your BMI is:\", round(bmi, 1), \"\\nYou are currently underweight.\")\n",
    "elif 18.5 <= bmi < 25:\n",
    "    print(\"Your BMI is:\", round(bmi, 1), \"\\nYour weight is regular.\")\n",
    "else:\n",
    "    print(\"Your BMI is:\", round(bmi, 1), \"\\nYour are currently overweight.\")"
   ]
  },
  {
   "cell_type": "code",
   "execution_count": null,
   "metadata": {},
   "outputs": [],
   "source": [
    "# Python Pizza Deliveries\n",
    "\n",
    "print(\"Welcome to Python Pizza Deliveries!\")\n",
    "pizza_size = input(\"What size pizza do you want? (S, M or L)\\n-> \")\n",
    "add_pepperoni = input(\"Do you want pepperoni on your pizza? (Y or N)\\n-> \")\n",
    "extra_cheese = input(\"Do you want extra cheese? (Y or N)\\n-> \")\n",
    "bill = 0\n",
    "\n",
    "if pizza_size == \"S\":\n",
    "    bill += 15\n",
    "elif pizza_size == \"M\":\n",
    "    bill += 20\n",
    "elif pizza_size == \"L\":\n",
    "    bill += 25\n",
    "else:\n",
    "    print(\"Please try again and enter a valid pizza size (S, M or L).\")\n",
    "\n",
    "if add_pepperoni == \"Y\" and pizza_size == \"S\":\n",
    "    bill += 2\n",
    "elif add_pepperoni == \"Y\" and pizza_size != \"S\":\n",
    "    bill += 3\n",
    "\n",
    "if extra_cheese == \"Y\":\n",
    "    bill += 1\n",
    "\n",
    "print(f\"Your final bill is: ${bill}.\")"
   ]
  },
  {
   "cell_type": "markdown",
   "metadata": {},
   "source": [
    "#### Day 4 - Randomisation & lists"
   ]
  },
  {
   "cell_type": "code",
   "execution_count": null,
   "metadata": {},
   "outputs": [],
   "source": [
    "# Random module\n",
    "\n",
    "import random\n",
    "\n",
    "random_int = random.randint(1, 9)\n",
    "print(random_int)\n",
    "\n",
    "rand_float = round(random.uniform(0, 5), 2)\n",
    "print(rand_float)\n",
    "\n",
    "# random.random() range: 0.0 =< N < 1.0\n",
    "\n",
    "random_float = round(random.random(), 2)\n",
    "print(random_float)\n",
    "\n",
    "# random.random() can also be multiplied to elevate the maximum limit\n",
    "\n",
    "multiplied_float = round((random.random() * 10), 2)\n",
    "print(multiplied_float)"
   ]
  },
  {
   "cell_type": "code",
   "execution_count": null,
   "metadata": {},
   "outputs": [],
   "source": [
    "# Coin-flipper\n",
    "\n",
    "import random\n",
    "\n",
    "coin_flip = random.randint(0, 1)\n",
    "if coin_flip == 0:\n",
    "    print(\"It's heads!\")\n",
    "elif coin_flip == 1:\n",
    "    print(\"It's tails!\")\n",
    "else:\n",
    "    print(\"An error has occurred. Please try again.\")"
   ]
  },
  {
   "cell_type": "code",
   "execution_count": null,
   "metadata": {},
   "outputs": [],
   "source": [
    "# Lists\n",
    "\n",
    "brazilian_cities = [\"São Paulo\", \"Rio de Janeiro\", \"Brasília\", \"Fortaleza\"]\n",
    "\n",
    "# Change list items\n",
    "\n",
    "# brazilian_cities[2] = \"Fortaleza\"\n",
    "# brazilian_cities[3] = \"Salvador\"\n",
    "\n",
    "# Delete and add items from/to a list\n",
    "\n",
    "brazilian_cities.pop(2)\n",
    "brazilian_cities.append(\"Salvador\")\n",
    "\n",
    "# print(brazilian_cities[2])\n",
    "# print(brazilian_cities[-1])\n",
    "\n",
    "# Extending lists\n",
    "\n",
    "brazilian_cities.extend([\"Belo Horizonte\", \"Manaus\", \"Curitiba\"])\n",
    "\n",
    "# Checking the length of lists\n",
    "\n",
    "listLength = len(brazilian_cities)\n",
    "print(listLength)\n",
    "\n",
    "print(brazilian_cities)"
   ]
  },
  {
   "cell_type": "code",
   "execution_count": null,
   "metadata": {},
   "outputs": [],
   "source": [
    "# Bill-paying russian roulette\n",
    "\n",
    "import random\n",
    "\n",
    "friends = [\"Alice\", \"Bob\", \"Charlie\", \"David\", \"Emanuel\"]\n",
    "\n",
    "# random_index = random.randint(0,4)\n",
    "# print(friends[random_index])\n",
    "\n",
    "# random.choice() selects a random item from a sequence\n",
    "\n",
    "print(random.choice(friends))"
   ]
  },
  {
   "cell_type": "code",
   "execution_count": null,
   "metadata": {},
   "outputs": [],
   "source": [
    "# Nested lists\n",
    "\n",
    "fruits = [\"Strawberries\", \"Apples\", \"Grapes\", \"Pineapples\"]\n",
    "vegetables =[\"Spinach\", \"Potatoes\", \"Lettuce\"]\n",
    "\n",
    "food = [fruits, vegetables]\n",
    "\n",
    "# print(food[0]) # Prints out the entire nested list\n",
    "print(food[0][0]) # Prints out one item out of the nested list\n",
    "\n",
    "# print(food)"
   ]
  },
  {
   "cell_type": "markdown",
   "metadata": {},
   "source": [
    "#### Day 5 - Loops"
   ]
  },
  {
   "cell_type": "code",
   "execution_count": null,
   "metadata": {},
   "outputs": [],
   "source": [
    "# For loop\n",
    "\n",
    "fruits = [\"Apple\", \"Peach\", \"Pear\"]\n",
    "for fruit in fruits:\n",
    "    print(fruit)"
   ]
  },
  {
   "cell_type": "code",
   "execution_count": null,
   "metadata": {},
   "outputs": [],
   "source": [
    "# sum() function\n",
    "\n",
    "goals_per_season = [15, 14, 16, 18, 19, 21, 26, 28, 31]\n",
    "career_goals = sum(goals_per_season)\n",
    "\n",
    "print(career_goals)\n",
    "\n",
    "assists_per_season = [5, 3, 7, 8, 10, 12, 15, 12, 13]\n",
    "career_assists = 0\n",
    "\n",
    "# sum() function done manually\n",
    "\n",
    "for season in assists_per_season:\n",
    "    career_assists += season\n",
    "\n",
    "print(career_assists)"
   ]
  },
  {
   "cell_type": "code",
   "execution_count": null,
   "metadata": {},
   "outputs": [],
   "source": [
    "# max() and min() functions\n",
    "\n",
    "goals_per_season = [15, 14, 16, 18, 19, 21, 26, 28, 31]\n",
    "assists_per_season = [5, 3, 7, 8, 10, 12, 15, 12, 13]\n",
    "\n",
    "print(max(goals_per_season), \"-\", min(goals_per_season))\n",
    "print(max(assists_per_season), \"-\", min(assists_per_season), \"\\n\")\n",
    "\n",
    "# max() function done manually\n",
    "\n",
    "max_goals = goals_per_season[0]\n",
    "max_assists = assists_per_season[0]\n",
    "\n",
    "for season in goals_per_season:\n",
    "    if season > max_goals:\n",
    "        max_goals = season\n",
    "\n",
    "for season in assists_per_season:\n",
    "    if season > max_assists:\n",
    "        max_assists = season\n",
    "        \n",
    "# min() function done manuallly\n",
    "\n",
    "min_goals = goals_per_season[0]\n",
    "min_assists = assists_per_season[0]\n",
    "\n",
    "for season in goals_per_season:\n",
    "    if season < min_goals:\n",
    "        min_goals = season\n",
    "\n",
    "for season in assists_per_season:\n",
    "    if season < min_assists:\n",
    "        min_assists = season\n",
    "\n",
    "# Checking the results\n",
    "\n",
    "print(max_goals, \"-\", min_goals)\n",
    "print(max_assists, \"-\", min_assists)"
   ]
  },
  {
   "cell_type": "code",
   "execution_count": null,
   "metadata": {},
   "outputs": [],
   "source": [
    "# range() function\n",
    "\n",
    "for num in range(1, 10):\n",
    "    print(num)\n",
    "\n",
    "print(\"\")\n",
    "    \n",
    "for num in range(10, 100, 10):\n",
    "    print(num)"
   ]
  },
  {
   "cell_type": "code",
   "execution_count": null,
   "metadata": {},
   "outputs": [],
   "source": [
    "# Gauss challenge\n",
    "\n",
    "total = 0\n",
    "for num in range(1, 101):\n",
    "    total += num\n",
    "\n",
    "print(total)"
   ]
  },
  {
   "cell_type": "code",
   "execution_count": null,
   "metadata": {},
   "outputs": [],
   "source": [
    "# Fizz-Buzz \n",
    "\n",
    "for num in range(1, 101):\n",
    "    if (num % 3 == 0) and (num % 5 == 0):\n",
    "        num = \"Fizz-Buzz\"\n",
    "    elif (num % 3 == 0):\n",
    "        num = \"Fizz\"\n",
    "    elif (num % 5 == 0):\n",
    "        num = \"Buzz\"\n",
    "    print(num)"
   ]
  },
  {
   "cell_type": "markdown",
   "metadata": {},
   "source": [
    "#### Day 6 - Functions"
   ]
  },
  {
   "cell_type": "code",
   "execution_count": null,
   "metadata": {},
   "outputs": [],
   "source": [
    "# Defining functions\n",
    "\n",
    "def my_function(): \n",
    "    print(\"Hello\")\n",
    "    print(\"Goodbye\")\n",
    "\n",
    "my_function()"
   ]
  },
  {
   "cell_type": "code",
   "execution_count": null,
   "metadata": {},
   "outputs": [],
   "source": [
    "# Reeborg Hurdle Challenge #1\n",
    "\n",
    "# def turn_right():\n",
    "    # turn_left()\n",
    "    # turn_left()\n",
    "    # turn_left()\n",
    "\n",
    "# def jump():\n",
    "    # move()\n",
    "    # turn_left()\n",
    "    # move()\n",
    "    # turn_right()\n",
    "    # move()\n",
    "    # turn_right()\n",
    "    # move()\n",
    "    # turn_left()\n",
    "\n",
    "# for i in range(6):\n",
    "    # jump()"
   ]
  },
  {
   "cell_type": "code",
   "execution_count": null,
   "metadata": {},
   "outputs": [],
   "source": [
    "# Same challenge using the while loop\n",
    "\n",
    "# def turn_right():\n",
    "#     turn_left()\n",
    "#     turn_left()\n",
    "#     turn_left()\n",
    "\n",
    "# def jump():\n",
    "#     move()\n",
    "#     turn_left()\n",
    "#     move()\n",
    "#     turn_right()\n",
    "#     move()\n",
    "#     turn_right()\n",
    "#     move()\n",
    "#     turn_left()\n",
    "\n",
    "# hurdles_left = 6\n",
    "# while hurdles_left > 0:\n",
    "#     jump()\n",
    "#     hurdles_left -= 1"
   ]
  },
  {
   "cell_type": "code",
   "execution_count": null,
   "metadata": {},
   "outputs": [],
   "source": [
    "# Reeborg Hurdle Challenge #2\n",
    "\n",
    "# def turn_right():\n",
    "#     turn_left()\n",
    "#     turn_left()\n",
    "#     turn_left()\n",
    "\n",
    "# def jump():\n",
    "#     move()\n",
    "#     turn_left()\n",
    "#     move()\n",
    "#     turn_right()\n",
    "#     move()\n",
    "#     turn_right()\n",
    "#     move()\n",
    "#     turn_left()\n",
    "\n",
    "# while not at_goal():\n",
    "#     jump()"
   ]
  },
  {
   "cell_type": "code",
   "execution_count": null,
   "metadata": {},
   "outputs": [],
   "source": [
    "# Reeborg Hurdle Challenge #3\n",
    "\n",
    "# Defining needed functions\n",
    "\n",
    "# def turn_right():\n",
    "#     turn_left()\n",
    "#     turn_left()\n",
    "#     turn_left()\n",
    "    \n",
    "# def jump():\n",
    "#     turn_left()\n",
    "#     move()\n",
    "#     turn_right()\n",
    "#     move()\n",
    "#     turn_right()\n",
    "#     move()\n",
    "#     turn_left()\n",
    "\n",
    "# # Moving Reeborg towards goal\n",
    "\n",
    "# while not at_goal():\n",
    "#     if wall_in_front():\n",
    "#         jump()\n",
    "#     else:\n",
    "#         move()"
   ]
  },
  {
   "cell_type": "code",
   "execution_count": null,
   "metadata": {},
   "outputs": [],
   "source": []
  }
 ],
 "metadata": {
  "kernelspec": {
   "display_name": "base",
   "language": "python",
   "name": "python3"
  },
  "language_info": {
   "codemirror_mode": {
    "name": "ipython",
    "version": 3
   },
   "file_extension": ".py",
   "mimetype": "text/x-python",
   "name": "python",
   "nbconvert_exporter": "python",
   "pygments_lexer": "ipython3",
   "version": "3.12.7"
  }
 },
 "nbformat": 4,
 "nbformat_minor": 2
}
