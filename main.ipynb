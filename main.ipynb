{
 "cells": [
  {
   "cell_type": "markdown",
   "metadata": {},
   "source": [
    "#### Day 1"
   ]
  },
  {
   "cell_type": "code",
   "execution_count": null,
   "metadata": {},
   "outputs": [],
   "source": [
    "# Input and Print functions\n",
    "\n",
    "name = input(\"What is your name?\\n-> \")\n",
    "print(\"Hello,\", name + \"!\")"
   ]
  },
  {
   "cell_type": "code",
   "execution_count": null,
   "metadata": {},
   "outputs": [],
   "source": [
    "# Type conversion\n",
    "\n",
    "name = input(\"What is your name?\\n-> \")\n",
    "nameLength = len(name)\n",
    "print(name + \", your name is\", str(nameLength), \"characters long.\")"
   ]
  },
  {
   "cell_type": "markdown",
   "metadata": {},
   "source": [
    "#### Day 2"
   ]
  },
  {
   "cell_type": "code",
   "execution_count": null,
   "metadata": {},
   "outputs": [],
   "source": [
    "# Indexing strings\n",
    "\n",
    "print(\"Good morning\"[1:3])"
   ]
  },
  {
   "cell_type": "code",
   "execution_count": null,
   "metadata": {},
   "outputs": [],
   "source": [
    "# Large integers (using underscores to make big numbers more readable)\n",
    "\n",
    "print(123_456_789)"
   ]
  },
  {
   "cell_type": "code",
   "execution_count": null,
   "metadata": {},
   "outputs": [],
   "source": [
    "# Type checking\n",
    "\n",
    "print(type(369))"
   ]
  },
  {
   "cell_type": "code",
   "execution_count": null,
   "metadata": {},
   "outputs": [],
   "source": [
    "# Type conversion (integers and floats)\n",
    "\n",
    "num = 3.14\n",
    "print(int(num))"
   ]
  },
  {
   "cell_type": "code",
   "execution_count": null,
   "metadata": {},
   "outputs": [],
   "source": [
    "# Type conversion (strings)\n",
    "\n",
    "nameLength = len(input(\"What is your name?\\n-> \"))\n",
    "print(\"Your name is\", str(nameLength), \"characters long.\")"
   ]
  },
  {
   "cell_type": "code",
   "execution_count": null,
   "metadata": {},
   "outputs": [],
   "source": [
    "# Mathematical operations (division)\n",
    "\n",
    "# Divisions w/ one slash = floats; Divisions w/ two slashes = integers\n",
    "\n",
    "divFloat = (6 / 3)\n",
    "divInt = (6 // 3)\n",
    "print(type(divFloat), type(divInt))"
   ]
  },
  {
   "cell_type": "code",
   "execution_count": null,
   "metadata": {},
   "outputs": [],
   "source": [
    "# Mathematical operations (exponentiation)\n",
    "\n",
    "num = (2 ** 4)\n",
    "# print(num)\n",
    "print(num == (2 * 2 * 2 * 2))"
   ]
  },
  {
   "cell_type": "code",
   "execution_count": null,
   "metadata": {},
   "outputs": [],
   "source": [
    "# BMI Calculator\n",
    "\n",
    "weight = float(input(\"What is your weight? (kg)\\n-> \"))\n",
    "height = float(input(\"What is your height? (m)\\n-> \"))\n",
    "\n",
    "bmi = (weight / (height ** 2))\n",
    "print(\"Your BMI is:\", round(bmi, 1))"
   ]
  },
  {
   "cell_type": "code",
   "execution_count": null,
   "metadata": {},
   "outputs": [],
   "source": [
    "# Flooring numbers\n",
    "\n",
    "num = 25.412905\n",
    "print(int(num))"
   ]
  },
  {
   "cell_type": "code",
   "execution_count": null,
   "metadata": {},
   "outputs": [],
   "source": [
    "# Round function – ([number], [nº of decimal digits])\n",
    "\n",
    "num = 27.712905\n",
    "round(num, 1)"
   ]
  },
  {
   "cell_type": "code",
   "execution_count": null,
   "metadata": {},
   "outputs": [],
   "source": [
    "# Assignment operators (+, -, * & /)\n",
    "\n",
    "num = 0\n",
    "num += 1\n",
    "# 👆 Same thing as \"num = num + 1\"\n",
    "print(num)"
   ]
  },
  {
   "cell_type": "code",
   "execution_count": null,
   "metadata": {},
   "outputs": [],
   "source": [
    "# F-strings\n",
    "\n",
    "playerName = \"Lucas\"\n",
    "goalsScored = 3\n",
    "print(f\"{playerName} scored {goalsScored} goals in his last match.\")"
   ]
  },
  {
   "cell_type": "markdown",
   "metadata": {},
   "source": [
    "#### Day 3"
   ]
  },
  {
   "cell_type": "code",
   "execution_count": null,
   "metadata": {},
   "outputs": [],
   "source": [
    "# If-Else statements\n",
    "\n",
    "print(\"Welcome to the rollercoaster!\")\n",
    "height = int(input(\"What is your height (cm)?\"))\n",
    "\n",
    "if height >= 120:\n",
    "    print(\"You can ride the rollercoaster!\")\n",
    "else:\n",
    "    print(\"Sorry, but you are under the minimum height.\")\n"
   ]
  },
  {
   "cell_type": "code",
   "execution_count": null,
   "metadata": {},
   "outputs": [],
   "source": [
    "# Number parity checker\n",
    "\n",
    "numberToCheck = int(input(\"Type in a number:\\n-> \"))\n",
    "\n",
    "if numberToCheck % 2 == 0:\n",
    "    print(\"The number you typed in is even!\")\n",
    "else:\n",
    "    print(\"The number you typed in is odd!\")"
   ]
  },
  {
   "cell_type": "code",
   "execution_count": null,
   "metadata": {},
   "outputs": [],
   "source": [
    "# Nested If-Else and Elif (Else-If) statements\n",
    "\n",
    "print(\"Welcome to the rollercoaster!\")\n",
    "height = int(input(\"What is your height (cm)?\\n-> \"))\n",
    "\n",
    "if height >= 120:\n",
    "    print(\"You can ride the rollercoaster!\")\n",
    "    age = int(input(\"What is your age?\\n-> \"))\n",
    "    if age >= 18:\n",
    "        print(\"Your ticket will cost $15.\")\n",
    "        ticket = 15\n",
    "    elif 18 > age >= 10:\n",
    "        print(\"Your ticket will cost $10.\")\n",
    "        ticket = 10\n",
    "    else:\n",
    "        print(\"Your ticket will cost $5.\")\n",
    "        ticket = 5\n",
    "    photoPurchase = input(\"Would you like to pay an additional $1 for a photo? (Type Y for Yes and N for No.)\")\n",
    "    if photoPurchase == \"Y\":\n",
    "        print(f\"Your total bill is: ${ticket + 1}\")\n",
    "    else:\n",
    "        print(f\"Your total bill is: ${ticket}\")\n",
    "else:\n",
    "    print(\"Sorry, but you are under the minimum height.\")\n"
   ]
  },
  {
   "cell_type": "code",
   "execution_count": null,
   "metadata": {},
   "outputs": [],
   "source": [
    "# BMI Calculator w/ weight categories\n",
    "\n",
    "weight = float(input(\"What is your weight? (kg)\\n-> \"))\n",
    "height = float(input(\"What is your height? (m)\\n-> \"))\n",
    "\n",
    "bmi = (weight / (height ** 2))\n",
    "if bmi < 18.5:\n",
    "    print(\"Your BMI is:\", round(bmi, 1), \"\\nYou are currently underweight.\")\n",
    "elif 18.5 <= bmi < 25:\n",
    "    print(\"Your BMI is:\", round(bmi, 1), \"\\nYour weight is regular.\")\n",
    "else:\n",
    "    print(\"Your BMI is:\", round(bmi, 1), \"\\nYour are currently overweight.\")"
   ]
  },
  {
   "cell_type": "code",
   "execution_count": null,
   "metadata": {},
   "outputs": [],
   "source": []
  }
 ],
 "metadata": {
  "kernelspec": {
   "display_name": "Python 3",
   "language": "python",
   "name": "python3"
  },
  "language_info": {
   "codemirror_mode": {
    "name": "ipython",
    "version": 3
   },
   "file_extension": ".py",
   "mimetype": "text/x-python",
   "name": "python",
   "nbconvert_exporter": "python",
   "pygments_lexer": "ipython3",
   "version": "3.13.2"
  }
 },
 "nbformat": 4,
 "nbformat_minor": 2
}
