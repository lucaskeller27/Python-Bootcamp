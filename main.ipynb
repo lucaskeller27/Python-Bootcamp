{
 "cells": [
  {
   "cell_type": "markdown",
   "metadata": {},
   "source": [
    "#### Day 1"
   ]
  },
  {
   "cell_type": "code",
   "execution_count": null,
   "metadata": {},
   "outputs": [],
   "source": [
    "# Take the user's name as input and add it onto the string\n",
    "\n",
    "name = input(\"What is your name?\\n-> \")\n",
    "print(\"Hello,\", name + \"!\")"
   ]
  },
  {
   "cell_type": "code",
   "execution_count": null,
   "metadata": {},
   "outputs": [],
   "source": [
    "# Check the length of the user's name and print it out (+ Type conversion)\n",
    "\n",
    "name = input(\"What is your name?\\n-> \")\n",
    "nameLength = len(name)\n",
    "print(name + \", your name is\", str(nameLength), \"characters long.\")"
   ]
  },
  {
   "cell_type": "markdown",
   "metadata": {},
   "source": [
    "#### Day 2"
   ]
  },
  {
   "cell_type": "code",
   "execution_count": null,
   "metadata": {},
   "outputs": [],
   "source": [
    "# Indexing strings\n",
    "\n",
    "print(\"Good morning\"[1:3])"
   ]
  },
  {
   "cell_type": "code",
   "execution_count": null,
   "metadata": {},
   "outputs": [],
   "source": [
    "# Large integers – use underscores like commas to make big numbers more readable\n",
    "\n",
    "print(123_456_789)"
   ]
  },
  {
   "cell_type": "code",
   "execution_count": null,
   "metadata": {},
   "outputs": [],
   "source": [
    "# Type checking\n",
    "\n",
    "print(type(369))"
   ]
  },
  {
   "cell_type": "code",
   "execution_count": null,
   "metadata": {},
   "outputs": [],
   "source": [
    "# Type conversion (integers and floats)\n",
    "\n",
    "num = 3.14\n",
    "print(int(num))"
   ]
  },
  {
   "cell_type": "code",
   "execution_count": null,
   "metadata": {},
   "outputs": [],
   "source": [
    "# Type conversion (strings)\n",
    "\n",
    "nameLength = len(input(\"What is your name?\\n-> \"))\n",
    "print(\"Your name is\", str(nameLength), \"characters long.\")"
   ]
  },
  {
   "cell_type": "code",
   "execution_count": null,
   "metadata": {},
   "outputs": [],
   "source": [
    "# Mathematical operations (division)\n",
    "\n",
    "# Divisions w/ one slash = floats; Divisions w/ two slashes = integers\n",
    "\n",
    "divFloat = (6 / 3)\n",
    "divInt = (6 // 3)\n",
    "print(type(divFloat), type(divInt))"
   ]
  },
  {
   "cell_type": "code",
   "execution_count": null,
   "metadata": {},
   "outputs": [],
   "source": [
    "# Mathematical operations (exponentiation)\n",
    "\n",
    "num = (2 ** 4)\n",
    "# print(num)\n",
    "print(num == (2 * 2 * 2 * 2))"
   ]
  },
  {
   "cell_type": "code",
   "execution_count": null,
   "metadata": {},
   "outputs": [],
   "source": [
    "# BMI Calculator\n",
    "\n",
    "weight = float(input(\"What is your weight? (kg)\\n-> \"))\n",
    "height = float(input(\"What is your height? (m)\\n-> \"))\n",
    "\n",
    "bmi = (weight / (height ** 2))\n",
    "print(\"Your BMI is:\", round(bmi, 1))"
   ]
  },
  {
   "cell_type": "code",
   "execution_count": null,
   "metadata": {},
   "outputs": [],
   "source": [
    "# Flooring numbers\n",
    "\n",
    "num = 25.412905\n",
    "print(int(num))"
   ]
  },
  {
   "cell_type": "code",
   "execution_count": null,
   "metadata": {},
   "outputs": [],
   "source": [
    "# round() function – ([number], [nº of decimal digits])\n",
    "\n",
    "num = 27.712905\n",
    "round(num, 1)"
   ]
  },
  {
   "cell_type": "code",
   "execution_count": null,
   "metadata": {},
   "outputs": [],
   "source": [
    "# Assignment operators (+, -, * & /)\n",
    "\n",
    "num = 0\n",
    "num += 1\n",
    "# 👆 Same thing as \"num = num + 1\"\n",
    "print(num)"
   ]
  },
  {
   "cell_type": "code",
   "execution_count": null,
   "metadata": {},
   "outputs": [],
   "source": [
    "# f-strings\n",
    "\n",
    "playerName = \"Lucas\"\n",
    "goalsScored = 3\n",
    "print(f\"{playerName} scored {goalsScored} goals in his last match.\")"
   ]
  },
  {
   "cell_type": "markdown",
   "metadata": {},
   "source": [
    "#### Day 3"
   ]
  },
  {
   "cell_type": "code",
   "execution_count": null,
   "metadata": {},
   "outputs": [],
   "source": []
  }
 ],
 "metadata": {
  "kernelspec": {
   "display_name": "base",
   "language": "python",
   "name": "python3"
  },
  "language_info": {
   "codemirror_mode": {
    "name": "ipython",
    "version": 3
   },
   "file_extension": ".py",
   "mimetype": "text/x-python",
   "name": "python",
   "nbconvert_exporter": "python",
   "pygments_lexer": "ipython3",
   "version": "3.12.7"
  }
 },
 "nbformat": 4,
 "nbformat_minor": 2
}
